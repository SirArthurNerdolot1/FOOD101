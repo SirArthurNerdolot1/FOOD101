{
 "cells": [
  {
   "cell_type": "code",
   "execution_count": 1,
   "id": "a3771933-03c8-45d3-813d-83f51df7da86",
   "metadata": {
    "ExecuteTime": {
     "end_time": "2024-12-05T14:55:03.207784Z",
     "start_time": "2024-12-05T14:55:02.182905Z"
    }
   },
   "outputs": [],
   "source": [
    "import statistics\n",
    "import pandas as pd\n",
    "import numpy as np\n",
    "from scipy.stats import gmean   \n"
   ]
  },
  {
   "cell_type": "code",
   "execution_count": 2,
   "id": "a7acf0c5-f464-4e10-929a-ac1e9abe5575",
   "metadata": {
    "ExecuteTime": {
     "end_time": "2024-12-05T14:55:03.244199Z",
     "start_time": "2024-12-05T14:55:03.219452Z"
    }
   },
   "outputs": [
    {
     "name": "stdout",
     "output_type": "stream",
     "text": [
      "       Student Name  Course  Marks (%)  Attendance (%)\n",
      "0       Dipon Konar  ELC111      56.72           63.08\n",
      "1    Parth Parashar  PHY113      84.59           20.96\n",
      "2       Anurag Sahu  MTH113      41.13           59.86\n",
      "3  Hemakshi Kumawat  CHM112      59.43           57.34\n",
      "4    Parth Parashar  ELC111      62.88           30.82\n"
     ]
    }
   ],
   "source": [
    "#reading the csv file \n",
    "df=pd.read_csv('IITK_Courses_Report.csv')\n",
    "print(df.head())"
   ]
  },
  {
   "cell_type": "code",
   "execution_count": 3,
   "id": "25f3879f-2f28-434b-9037-b2bfc24e02f0",
   "metadata": {
    "ExecuteTime": {
     "end_time": "2024-12-05T14:55:04.551193Z",
     "start_time": "2024-12-05T14:55:04.535437Z"
    }
   },
   "outputs": [
    {
     "name": "stdout",
     "output_type": "stream",
     "text": [
      "\n",
      "The null data in the data frame is:\n",
      "Student Name      12\n",
      "Course             3\n",
      "Marks (%)         13\n",
      "Attendance (%)    17\n",
      "dtype: int64\n"
     ]
    }
   ],
   "source": [
    "#checking for null data\n",
    "print(\"\\nThe null data in the data frame is:\")\n",
    "print(df.isnull().sum())\n"
   ]
  },
  {
   "cell_type": "code",
   "execution_count": 5,
   "id": "dda7820f-8dac-4eb4-944c-0967d6724b71",
   "metadata": {
    "ExecuteTime": {
     "end_time": "2024-12-05T14:55:06.057138Z",
     "start_time": "2024-12-05T14:55:06.050495Z"
    }
   },
   "outputs": [
    {
     "name": "stdout",
     "output_type": "stream",
     "text": [
      "Student Name       0\n",
      "Course             0\n",
      "Marks (%)         13\n",
      "Attendance (%)    17\n",
      "dtype: int64\n"
     ]
    }
   ],
   "source": [
    "#checking for null values in the data frame\n",
    "empty_check = df.isnull().sum()\n",
    "print(empty_check)"
   ]
  },
  {
   "cell_type": "code",
   "execution_count": 6,
   "id": "e186172f-cfc3-4d4b-b49e-cf313cfad66f",
   "metadata": {
    "ExecuteTime": {
     "end_time": "2024-12-05T14:55:07.289532Z",
     "start_time": "2024-12-05T14:55:07.284909Z"
    }
   },
   "outputs": [],
   "source": [
    "# Drop rows where any non-numerical column contains null values\n",
    "non_numerical_columns = df.select_dtypes(include=['object']).columns\n",
    "df = df.dropna(subset=non_numerical_columns)"
   ]
  },
  {
   "cell_type": "code",
   "execution_count": 7,
   "id": "af52eae9-b91e-45e6-8fb1-bb79ea05df30",
   "metadata": {
    "ExecuteTime": {
     "end_time": "2024-12-05T14:55:10.720333Z",
     "start_time": "2024-12-05T14:55:10.716765Z"
    }
   },
   "outputs": [],
   "source": [
    "# Replace null values in numerical columns using the geometric mean\n",
    "numerical_columns = df.select_dtypes(include=[np.number]).columns"
   ]
  },
  {
   "cell_type": "code",
   "execution_count": 8,
   "id": "c9e0fe8c121bd589",
   "metadata": {},
   "outputs": [],
   "source": [
    "def replace_with_geometric_mean(df,col):\n",
    "        for index in df[df[col].isnull()].index:\n",
    "            if 0 < index < len(df) - 1:\n",
    "                above = df.loc[index - 1, col]\n",
    "                below = df.loc[index + 1, col]\n",
    "                if not pd.isnull(above) and not pd.isnull(below):\n",
    "                    df.loc[index, col] = gmean([above, below])\n",
    "        return df"
   ]
  },
  {
   "cell_type": "code",
   "execution_count": 9,
   "id": "09c937bc-90c0-48ae-b7c7-1b6394ea70a3",
   "metadata": {},
   "outputs": [],
   "source": [
    "for col in numerical_columns:\n",
    "    df = replace_with_geometric_mean(df,col)\n"
   ]
  },
  {
   "cell_type": "code",
   "execution_count": 10,
   "id": "cda3be99-66bb-4551-b923-8641a0aec88e",
   "metadata": {},
   "outputs": [
    {
     "name": "stdout",
     "output_type": "stream",
     "text": [
      "\n",
      "DataFrame after handling null values in numerical columns:\n",
      "       Student Name  Course  Marks (%)  Attendance (%)\n",
      "0       Dipon Konar  ELC111      56.72           63.08\n",
      "1    Parth Parashar  PHY113      84.59           20.96\n",
      "2       Anurag Sahu  MTH113      41.13           59.86\n",
      "3  Hemakshi Kumawat  CHM112      59.43           57.34\n",
      "4    Parth Parashar  ELC111      62.88           30.82\n"
     ]
    }
   ],
   "source": [
    "print(\"\\nDataFrame after handling null values in numerical columns:\")\n",
    "print(df.head())"
   ]
  },
  {
   "cell_type": "code",
   "execution_count": 11,
   "id": "8a126b11-6440-4d15-a93f-0b530558ea39",
   "metadata": {},
   "outputs": [
    {
     "name": "stdout",
     "output_type": "stream",
     "text": [
      "\n",
      "Cleaned DataFrame saved to Cleaned_IITK_Courses_Report.csv\n"
     ]
    }
   ],
   "source": [
    "# Save the cleaned DataFrame to a new CSV file\n",
    "cleaned_file_path = \"Cleaned_IITK_Courses_Report.csv\"\n",
    "df.to_csv(cleaned_file_path, index=False)\n",
    "print(f\"\\nCleaned DataFrame saved to {cleaned_file_path}\")"
   ]
  },
  {
   "cell_type": "code",
   "execution_count": null,
   "id": "84ed19b3-d9ec-4743-86f5-e5a111a22390",
   "metadata": {},
   "outputs": [],
   "source": []
  }
 ],
 "metadata": {
  "kernelspec": {
   "display_name": "Python (food101)",
   "language": "python",
   "name": "food101"
  },
  "language_info": {
   "codemirror_mode": {
    "name": "ipython",
    "version": 3
   },
   "file_extension": ".py",
   "mimetype": "text/x-python",
   "name": "python",
   "nbconvert_exporter": "python",
   "pygments_lexer": "ipython3",
   "version": "3.12.3"
  }
 },
 "nbformat": 4,
 "nbformat_minor": 5
}
